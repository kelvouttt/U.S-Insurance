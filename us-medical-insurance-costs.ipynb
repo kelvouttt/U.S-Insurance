{
 "cells": [
  {
   "cell_type": "markdown",
   "metadata": {},
   "source": [
    "# U.S. Medical Insurance Costs"
   ]
  },
  {
   "cell_type": "markdown",
   "metadata": {},
   "source": [
    "The purpose of this project is to analyze the medical insurance cost in the U.S and observe its various attributes within the given dataset. I am particularly interested in the factors that determine the difference of insurance cost between individuals for instance smoker and non-smoker, children they own, age, and etc. I will define a class object in this project to get individual data from each columns to show how extensive my knowledge in Python especially using its object-oriented feature."
   ]
  },
  {
   "cell_type": "code",
   "execution_count": 13,
   "metadata": {},
   "outputs": [],
   "source": [
    "import pandas as pd\n",
    "import numpy as np"
   ]
  },
  {
   "cell_type": "markdown",
   "metadata": {},
   "source": [
    "It is a standard that data analysis will eventually end up in the data visualization. However, in this particular project, I will be just performing data exploration using libraries such as pandas and NumPy. If I have a chance in the future, I will probably make the visualization later on after I studied more about data visualization. At the meantime, I am still studying in learning seaborn and plotly to visualize data. "
   ]
  },
  {
   "cell_type": "code",
   "execution_count": 14,
   "metadata": {},
   "outputs": [],
   "source": [
    "data = pd.read_csv('insurance.csv')"
   ]
  },
  {
   "cell_type": "code",
   "execution_count": 15,
   "metadata": {},
   "outputs": [
    {
     "name": "stdout",
     "output_type": "stream",
     "text": [
      "<class 'pandas.core.frame.DataFrame'>\n",
      "RangeIndex: 1338 entries, 0 to 1337\n",
      "Data columns (total 7 columns):\n",
      " #   Column    Non-Null Count  Dtype  \n",
      "---  ------    --------------  -----  \n",
      " 0   age       1338 non-null   int64  \n",
      " 1   sex       1338 non-null   object \n",
      " 2   bmi       1338 non-null   float64\n",
      " 3   children  1338 non-null   int64  \n",
      " 4   smoker    1338 non-null   object \n",
      " 5   region    1338 non-null   object \n",
      " 6   charges   1338 non-null   float64\n",
      "dtypes: float64(2), int64(2), object(3)\n",
      "memory usage: 73.3+ KB\n",
      "None\n"
     ]
    }
   ],
   "source": [
    "print(data.info())"
   ]
  },
  {
   "cell_type": "markdown",
   "metadata": {},
   "source": [
    "The columns in the dataset, are:\n",
    "* Patient Age\n",
    "* Patient Sex\n",
    "* Patient BMI\n",
    "* Patient Number of Children\n",
    "* Patient Smoking Status\n",
    "* Patient Demographical Region\n",
    "* Patient Insurance Cost\n",
    "There are no missing values in the tables and this dataset has 1338 rows including the header and 7 attributes."
   ]
  },
  {
   "cell_type": "code",
   "execution_count": 16,
   "metadata": {},
   "outputs": [
    {
     "name": "stdout",
     "output_type": "stream",
     "text": [
      "   age     sex     bmi  children smoker     region      charges\n",
      "0   19  female  27.900         0    yes  southwest  16884.92400\n",
      "1   18    male  33.770         1     no  southeast   1725.55230\n",
      "2   28    male  33.000         3     no  southeast   4449.46200\n",
      "3   33    male  22.705         0     no  northwest  21984.47061\n",
      "4   32    male  28.880         0     no  northwest   3866.85520\n"
     ]
    }
   ],
   "source": [
    "print(data.head())"
   ]
  },
  {
   "cell_type": "markdown",
   "metadata": {},
   "source": [
    "Observing first few data to get a little sense of what the data is about and getting the column name."
   ]
  },
  {
   "cell_type": "code",
   "execution_count": 17,
   "metadata": {},
   "outputs": [
    {
     "name": "stdout",
     "output_type": "stream",
     "text": [
      "               age          bmi     children       charges\n",
      "count  1338.000000  1338.000000  1338.000000   1338.000000\n",
      "mean     39.207025    30.663397     1.094918  13270.422265\n",
      "std      14.049960     6.098187     1.205493  12110.011237\n",
      "min      18.000000    15.960000     0.000000   1121.873900\n",
      "25%      27.000000    26.296250     0.000000   4740.287150\n",
      "50%      39.000000    30.400000     1.000000   9382.033000\n",
      "75%      51.000000    34.693750     2.000000  16639.912515\n",
      "max      64.000000    53.130000     5.000000  63770.428010\n"
     ]
    }
   ],
   "source": [
    "print(data.describe())"
   ]
  },
  {
   "cell_type": "markdown",
   "metadata": {},
   "source": [
    "By using the `.describe()` function, there are few points that we can conclude as part of the analysis, as follows:\n",
    "* Individual who holds an insurance is ranging from 18 to 64 years old.\n",
    "* The average of the age is around 39 and this corresponds to the median of the data. This reflects to the majority of people who has an insurance.\n",
    "* Without direspecting any groups of parties from my analysis, it can be concluded that the average of the BMI is around 30.0 which has already passed the recommended BMI.\n",
    "* The average insurance cost per individual is 13270 US dollars. Further analysis can be conducted to figure out in which customer attributes that mostly impacts on difference in insurance costs."
   ]
  },
  {
   "cell_type": "markdown",
   "metadata": {},
   "source": [
    "# Further Analysis"
   ]
  },
  {
   "cell_type": "markdown",
   "metadata": {},
   "source": [
    "## Age"
   ]
  },
  {
   "cell_type": "markdown",
   "metadata": {},
   "source": [
    "By observing the overall descriptions of the data above. I am quite intrigued by the minimum age of the individual in the dataset. As I am from Indonesia, most of the teenagers (younger than 21 years old) do not really have their own insurance account. This is interesting to me as I think it has become a norm in a developed countries to have an insurance account in the early age. Because of that I want to know how many people that are younger than 21 years who have an insurance by defining a function."
   ]
  },
  {
   "cell_type": "code",
   "execution_count": 18,
   "metadata": {},
   "outputs": [],
   "source": [
    "def insurance_age_count(high_ages, low_ages=0, age_data=data['age']):\n",
    "    count=0\n",
    "    for age in age_data:\n",
    "        if (age <= high_ages) & (age >= low_ages):\n",
    "            count += 1\n",
    "    return count"
   ]
  },
  {
   "cell_type": "code",
   "execution_count": 19,
   "metadata": {},
   "outputs": [
    {
     "data": {
      "text/plain": [
       "194"
      ]
     },
     "execution_count": 19,
     "metadata": {},
     "output_type": "execute_result"
    }
   ],
   "source": [
    "insurance_age_count(21)"
   ]
  },
  {
   "cell_type": "markdown",
   "metadata": {},
   "source": [
    "From the functions above, it is indeed really surprising to me that there are almost 200 people who joined an insurance in their early age. Even though these people only account for 14.5% of the total data. This number indicates that many teenagers are already aware about how important it is for someone to have an insurance."
   ]
  },
  {
   "cell_type": "markdown",
   "metadata": {},
   "source": [
    "## Gender"
   ]
  },
  {
   "cell_type": "markdown",
   "metadata": {},
   "source": [
    "In this section, I would like to get the total counts of the 2 genders. This is important to figure out which gender has a tendency to have an insurance."
   ]
  },
  {
   "cell_type": "code",
   "execution_count": 20,
   "metadata": {},
   "outputs": [],
   "source": [
    "def gender_count(gender_data = data['sex']):\n",
    "    female = 0\n",
    "    male = 0\n",
    "    for gender in gender_data:\n",
    "        if gender == 'female':\n",
    "            female += 1\n",
    "        elif gender == 'male':\n",
    "            male += 1\n",
    "    print(f\"Count for female: {female}\")\n",
    "    print(f\"Count for male: {male}\")"
   ]
  },
  {
   "cell_type": "code",
   "execution_count": 22,
   "metadata": {
    "scrolled": true
   },
   "outputs": [
    {
     "name": "stdout",
     "output_type": "stream",
     "text": [
      "Count for female: 662\n",
      "Count for male: 676\n",
      "50.56095736724009\n"
     ]
    }
   ],
   "source": [
    "gender_count()"
   ]
  },
  {
   "cell_type": "markdown",
   "metadata": {},
   "source": [
    "Looking at the function, we can identify that the majority of gender who has an insurance is male by having a percentage of around 50.6% of the total population in the dataset."
   ]
  },
  {
   "cell_type": "markdown",
   "metadata": {},
   "source": [
    "## Smoking Status"
   ]
  },
  {
   "cell_type": "markdown",
   "metadata": {},
   "source": [
    "In this section, I would like to again separate the dataset between smoker and non-smoker. Firstly, I want to know how many people who smokes and do not by defining a `.smokers_count()` function."
   ]
  },
  {
   "cell_type": "code",
   "execution_count": 49,
   "metadata": {},
   "outputs": [],
   "source": [
    "def smokers_count(smoke_data=data['smoker']):\n",
    "    smokers = 0\n",
    "    non_smokers = 0\n",
    "    for smoker in smoke_data:\n",
    "        if smoker=='yes':\n",
    "            smokers += 1\n",
    "        else:\n",
    "            non_smokers += 1\n",
    "    print(f\"The total smokers: {smokers}\")\n",
    "    print(f\"The total non-smokers: {non_smokers}\")"
   ]
  },
  {
   "cell_type": "code",
   "execution_count": 50,
   "metadata": {},
   "outputs": [
    {
     "name": "stdout",
     "output_type": "stream",
     "text": [
      "The total smokers: 274\n",
      "The total non-smokers: 1064\n"
     ]
    }
   ],
   "source": [
    "smokers_count()"
   ]
  },
  {
   "cell_type": "code",
   "execution_count": 30,
   "metadata": {},
   "outputs": [
    {
     "data": {
      "text/html": [
       "<div>\n",
       "<style scoped>\n",
       "    .dataframe tbody tr th:only-of-type {\n",
       "        vertical-align: middle;\n",
       "    }\n",
       "\n",
       "    .dataframe tbody tr th {\n",
       "        vertical-align: top;\n",
       "    }\n",
       "\n",
       "    .dataframe thead th {\n",
       "        text-align: right;\n",
       "    }\n",
       "</style>\n",
       "<table border=\"1\" class=\"dataframe\">\n",
       "  <thead>\n",
       "    <tr style=\"text-align: right;\">\n",
       "      <th></th>\n",
       "      <th>age</th>\n",
       "      <th>bmi</th>\n",
       "      <th>children</th>\n",
       "      <th>charges</th>\n",
       "    </tr>\n",
       "    <tr>\n",
       "      <th>smoker</th>\n",
       "      <th></th>\n",
       "      <th></th>\n",
       "      <th></th>\n",
       "      <th></th>\n",
       "    </tr>\n",
       "  </thead>\n",
       "  <tbody>\n",
       "    <tr>\n",
       "      <th>no</th>\n",
       "      <td>39.385338</td>\n",
       "      <td>30.651795</td>\n",
       "      <td>1.090226</td>\n",
       "      <td>8434.268298</td>\n",
       "    </tr>\n",
       "    <tr>\n",
       "      <th>yes</th>\n",
       "      <td>38.514599</td>\n",
       "      <td>30.708449</td>\n",
       "      <td>1.113139</td>\n",
       "      <td>32050.231832</td>\n",
       "    </tr>\n",
       "  </tbody>\n",
       "</table>\n",
       "</div>"
      ],
      "text/plain": [
       "              age        bmi  children       charges\n",
       "smoker                                              \n",
       "no      39.385338  30.651795  1.090226   8434.268298\n",
       "yes     38.514599  30.708449  1.113139  32050.231832"
      ]
     },
     "execution_count": 30,
     "metadata": {},
     "output_type": "execute_result"
    }
   ],
   "source": [
    "data.groupby(data['smoker']).mean()"
   ]
  },
  {
   "cell_type": "markdown",
   "metadata": {},
   "source": [
    "After the analysis, we found out that the majority of people does not smoke. After finding this number, I am curious about the average age of people who smokes or not by performing the `groupby().mean()` function. This results in the few average value in some attributes from the dataset between smokers and non-smokers. We can see that the average age, bmi, and children do not have a significance difference. \n",
    "\n",
    "However, if we look at the last attribute which is the insurance cost (charges). We can see that the difference of charges between smokers and non-smokers are quite substantial. The insurance cost for smokers are almost 4 times more expensive compared to non-smokers population. But, the table above does not represent some outliers or skews as it can be seen from the dataset that some individuals under 21 years old that are categorized as smokers."
   ]
  },
  {
   "cell_type": "markdown",
   "metadata": {},
   "source": [
    "# Conclusion"
   ]
  },
  {
   "cell_type": "markdown",
   "metadata": {},
   "source": [
    "In conclusion of this analysis, the number of smokers are significantly lower than the non-smokers. While smoking records do have a strong impact in determining the total of insurance cost per individual. Other attributes, such as age, gender, and BMI also plays an important role that could affect the cost of insurance."
   ]
  }
 ],
 "metadata": {
  "celltoolbar": "Attachments",
  "kernelspec": {
   "display_name": "Python 3",
   "language": "python",
   "name": "python3"
  },
  "language_info": {
   "codemirror_mode": {
    "name": "ipython",
    "version": 3
   },
   "file_extension": ".py",
   "mimetype": "text/x-python",
   "name": "python",
   "nbconvert_exporter": "python",
   "pygments_lexer": "ipython3",
   "version": "3.9.4"
  }
 },
 "nbformat": 4,
 "nbformat_minor": 4
}
